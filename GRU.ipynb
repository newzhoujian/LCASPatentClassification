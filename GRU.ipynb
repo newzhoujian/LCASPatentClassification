{
 "cells": [
  {
   "cell_type": "code",
   "execution_count": 1,
   "metadata": {
    "ExecuteTime": {
     "end_time": "2019-12-10T10:49:41.166958Z",
     "start_time": "2019-12-10T10:39:14.389770Z"
    }
   },
   "outputs": [
    {
     "name": "stderr",
     "output_type": "stream",
     "text": [
      "Using TensorFlow backend.\n"
     ]
    },
    {
     "name": "stdout",
     "output_type": "stream",
     "text": [
      "WARNING:tensorflow:From /data/miniconda3/lib/python3.6/site-packages/tensorflow/python/framework/op_def_library.py:263: colocate_with (from tensorflow.python.framework.ops) is deprecated and will be removed in a future version.\n",
      "Instructions for updating:\n",
      "Colocations handled automatically by placer.\n",
      "_________________________________________________________________\n",
      "Layer (type)                 Output Shape              Param #   \n",
      "=================================================================\n",
      "input_1 (InputLayer)         (None, 200)               0         \n",
      "_________________________________________________________________\n",
      "embedding_1 (Embedding)      (None, 200, 300)          68857800  \n",
      "_________________________________________________________________\n",
      "gru_1 (GRU)                  (None, 300)               540900    \n",
      "_________________________________________________________________\n",
      "dense_1 (Dense)              (None, 8)                 2408      \n",
      "=================================================================\n",
      "Total params: 69,401,108\n",
      "Trainable params: 543,308\n",
      "Non-trainable params: 68,857,800\n",
      "_________________________________________________________________\n",
      "WARNING:tensorflow:From /data/miniconda3/lib/python3.6/site-packages/tensorflow/python/ops/math_ops.py:3066: to_int32 (from tensorflow.python.ops.math_ops) is deprecated and will be removed in a future version.\n",
      "Instructions for updating:\n",
      "Use tf.cast instead.\n",
      "Train on 50000 samples, validate on 20000 samples\n",
      "Epoch 1/10\n",
      "50000/50000 [==============================] - 61s 1ms/step - loss: 1.0858 - categorical_accuracy: 0.6169 - val_loss: 0.8220 - val_categorical_accuracy: 0.7164\n",
      "\n",
      "Epoch 00001: val_categorical_accuracy improved from -inf to 0.71645, saving model to ../PCmodel/TextCNN.h5\n",
      "Epoch 2/10\n",
      "50000/50000 [==============================] - 60s 1ms/step - loss: 0.7094 - categorical_accuracy: 0.7516 - val_loss: 0.6590 - val_categorical_accuracy: 0.7655\n",
      "\n",
      "Epoch 00002: val_categorical_accuracy improved from 0.71645 to 0.76550, saving model to ../PCmodel/TextCNN.h5\n",
      "Epoch 3/10\n",
      "50000/50000 [==============================] - 60s 1ms/step - loss: 0.6343 - categorical_accuracy: 0.7773 - val_loss: 0.6420 - val_categorical_accuracy: 0.7713\n",
      "\n",
      "Epoch 00003: val_categorical_accuracy improved from 0.76550 to 0.77135, saving model to ../PCmodel/TextCNN.h5\n",
      "Epoch 4/10\n",
      "50000/50000 [==============================] - 60s 1ms/step - loss: 0.5898 - categorical_accuracy: 0.7893 - val_loss: 0.5893 - val_categorical_accuracy: 0.7875\n",
      "\n",
      "Epoch 00004: val_categorical_accuracy improved from 0.77135 to 0.78750, saving model to ../PCmodel/TextCNN.h5\n",
      "Epoch 5/10\n",
      "50000/50000 [==============================] - 60s 1ms/step - loss: 0.5574 - categorical_accuracy: 0.8012 - val_loss: 0.5813 - val_categorical_accuracy: 0.7907\n",
      "\n",
      "Epoch 00005: val_categorical_accuracy improved from 0.78750 to 0.79075, saving model to ../PCmodel/TextCNN.h5\n",
      "Epoch 6/10\n",
      "50000/50000 [==============================] - 60s 1ms/step - loss: 0.5281 - categorical_accuracy: 0.8111 - val_loss: 0.5615 - val_categorical_accuracy: 0.7979\n",
      "\n",
      "Epoch 00006: val_categorical_accuracy improved from 0.79075 to 0.79795, saving model to ../PCmodel/TextCNN.h5\n",
      "Epoch 7/10\n",
      "50000/50000 [==============================] - 60s 1ms/step - loss: 0.5048 - categorical_accuracy: 0.8173 - val_loss: 0.5344 - val_categorical_accuracy: 0.8096\n",
      "\n",
      "Epoch 00007: val_categorical_accuracy improved from 0.79795 to 0.80955, saving model to ../PCmodel/TextCNN.h5\n",
      "Epoch 8/10\n",
      "50000/50000 [==============================] - 60s 1ms/step - loss: 0.4809 - categorical_accuracy: 0.8273 - val_loss: 0.5265 - val_categorical_accuracy: 0.8124\n",
      "\n",
      "Epoch 00008: val_categorical_accuracy improved from 0.80955 to 0.81240, saving model to ../PCmodel/TextCNN.h5\n",
      "Epoch 9/10\n",
      "50000/50000 [==============================] - 60s 1ms/step - loss: 0.4580 - categorical_accuracy: 0.8356 - val_loss: 0.5313 - val_categorical_accuracy: 0.8111\n",
      "\n",
      "Epoch 00009: val_categorical_accuracy did not improve from 0.81240\n",
      "Epoch 10/10\n",
      "50000/50000 [==============================] - 60s 1ms/step - loss: 0.4353 - categorical_accuracy: 0.8434 - val_loss: 0.5271 - val_categorical_accuracy: 0.8138\n",
      "\n",
      "Epoch 00010: val_categorical_accuracy improved from 0.81240 to 0.81375, saving model to ../PCmodel/TextCNN.h5\n"
     ]
    }
   ],
   "source": [
    "import pickle\n",
    "import tensorflow as tf\n",
    "import keras\n",
    "import keras.backend as K\n",
    "from keras.layers import *\n",
    "from keras.models import Model\n",
    "from keras.callbacks import ModelCheckpoint\n",
    "from keras.models import save_model\n",
    "from keras.models import load_model\n",
    "import os\n",
    "\n",
    "X = pickle.load(open(\"../data/X_data_random.pkl\",\"rb\"))\n",
    "y = pickle.load(open(\"../data/y_data_random.pkl\",\"rb\"))\n",
    "word2id, id2word = pickle.load(open(\"../data/word2idandid2word.pkl\",\"rb\"))\n",
    "label2id, id2label = pickle.load(open(\"../data/label2idandid2label.pkl\",\"rb\"))\n",
    "word2vec_matrix = pickle.load(open(\"../data/word2vec_matrix.pkl\",\"rb\"))\n",
    "\n",
    "\n",
    "index1 = 50000\n",
    "index2 = 70000\n",
    "X_train, X_val, X_test = X[:index1], X[index1:index2], X[index2:]\n",
    "y_train, y_val, y_test = y[:index1], y[index1:index2], y[index2:]\n",
    "\n",
    "os.environ['CUDA_VISIBLE_DEVICES'] = \"0\"\n",
    "\n",
    "padding_len = 200\n",
    "\n",
    "with tf.device('/gpu:0'):\n",
    "    model_input = Input(shape=(padding_len,))\n",
    "    \n",
    "    wordembed = Embedding(len(word2vec_matrix), 300, weights=[word2vec_matrix], input_length=padding_len, trainable=False)(model_input)\n",
    "    sen2vec = GRU(300, activation='tanh', return_sequences=False)(wordembed)\n",
    "    \n",
    "    model_output = Dense(len(label2id), activation='softmax')(sen2vec)\n",
    "    model = Model(inputs=model_input, outputs=model_output)\n",
    "    model.summary()\n",
    "    checkpoint = ModelCheckpoint(\"../PCmodel/GRU.h5\", monitor='val_categorical_accuracy', verbose=1, save_best_only=True, mode='max')\n",
    "    model.compile(loss='categorical_crossentropy', optimizer='adam', metrics=['categorical_accuracy'])\n",
    "    model.fit(X_train, y_train, batch_size=200, epochs=10, validation_data=(X_val, y_val), callbacks=[checkpoint])\n",
    "    model.save(\"../PCmodel/GRU.h5\")"
   ]
  },
  {
   "cell_type": "code",
   "execution_count": 2,
   "metadata": {
    "ExecuteTime": {
     "end_time": "2019-12-10T10:50:02.700877Z",
     "start_time": "2019-12-10T10:49:41.169042Z"
    }
   },
   "outputs": [
    {
     "name": "stdout",
     "output_type": "stream",
     "text": [
      "precision:\n",
      "0.8109\n",
      "0.8121398565570032\n",
      "recall:\n",
      "0.8109\n",
      "0.8101791403914368\n",
      "f1:\n",
      "0.8109\n",
      "0.8104843065935047\n"
     ]
    }
   ],
   "source": [
    "y_pred = model.predict(X_test)\n",
    "y1 = [np.argmax(i) for i in y_test]\n",
    "y2 = [np.argmax(i) for i in y_pred]\n",
    "\n",
    "from sklearn import metrics\n",
    "\n",
    "print('precision:')\n",
    "print(metrics.precision_score(y1,y2,average='micro'))\n",
    "print(metrics.precision_score(y1,y2,average='macro'))\n",
    "\n",
    "print('recall:')\n",
    "print(metrics.recall_score(y1,y2,average='micro'))\n",
    "print(metrics.recall_score(y1,y2,average='macro'))\n",
    "\n",
    "print('f1:')\n",
    "print(metrics.f1_score(y1,y2,average='micro'))\n",
    "print(metrics.f1_score(y1,y2,average='macro'))"
   ]
  },
  {
   "cell_type": "code",
   "execution_count": null,
   "metadata": {},
   "outputs": [],
   "source": []
  }
 ],
 "metadata": {
  "kernelspec": {
   "display_name": "Python 3",
   "language": "python",
   "name": "python3"
  },
  "language_info": {
   "codemirror_mode": {
    "name": "ipython",
    "version": 3
   },
   "file_extension": ".py",
   "mimetype": "text/x-python",
   "name": "python",
   "nbconvert_exporter": "python",
   "pygments_lexer": "ipython3",
   "version": "3.6.8"
  },
  "toc": {
   "nav_menu": {},
   "number_sections": true,
   "sideBar": true,
   "skip_h1_title": false,
   "toc_cell": false,
   "toc_position": {},
   "toc_section_display": "block",
   "toc_window_display": false
  }
 },
 "nbformat": 4,
 "nbformat_minor": 2
}
