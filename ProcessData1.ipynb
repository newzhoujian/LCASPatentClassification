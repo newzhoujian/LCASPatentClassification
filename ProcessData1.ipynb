{
 "cells": [
  {
   "cell_type": "code",
   "execution_count": 1,
   "metadata": {
    "ExecuteTime": {
     "end_time": "2019-12-03T07:44:54.814438Z",
     "start_time": "2019-12-03T07:44:46.556363Z"
    }
   },
   "outputs": [],
   "source": [
    "import pandas as pd\n",
    "import pickle\n",
    "\n",
    "df_files = pd.read_excel('../data/patentData_80000_20180622.xlsx', encoding='utf-8')\n"
   ]
  },
  {
   "cell_type": "code",
   "execution_count": 2,
   "metadata": {
    "ExecuteTime": {
     "end_time": "2019-12-03T07:44:54.911539Z",
     "start_time": "2019-12-03T07:44:54.816540Z"
    }
   },
   "outputs": [],
   "source": [
    "import jieba\n",
    "stopwordfile = open('../dict/StopWords_CON.txt', 'r', encoding='utf-8')\n",
    "def getstopword():\n",
    "    w = set()\n",
    "    for line in stopwordfile:\n",
    "        line.strip().split('\\n')\n",
    "        w.add(line[:len(line)-1].strip())\n",
    "    return w\n",
    "\n",
    "stopwordset = getstopword()\n",
    "\n",
    "def cutWords(sentence):\n",
    "    word_list = jieba.cut(sentence)\n",
    "    res = ' '.join(word_list)\n",
    "    res = res.split(' ')\n",
    "    tempX = ''\n",
    "    for i in res:\n",
    "        if i not in stopwordset:\n",
    "            tempX+=i\n",
    "            tempX+=' '\n",
    "    return tempX.strip()"
   ]
  },
  {
   "cell_type": "code",
   "execution_count": 3,
   "metadata": {
    "ExecuteTime": {
     "end_time": "2019-12-03T07:45:04.972935Z",
     "start_time": "2019-12-03T07:45:04.807102Z"
    }
   },
   "outputs": [],
   "source": [
    "df_files['all_sentence'] = df_files['标题'] + df_files['摘要'] + df_files['首项权利要求']\n"
   ]
  },
  {
   "cell_type": "code",
   "execution_count": 5,
   "metadata": {
    "ExecuteTime": {
     "end_time": "2019-12-03T07:48:08.170652Z",
     "start_time": "2019-12-03T07:45:21.891781Z"
    }
   },
   "outputs": [
    {
     "name": "stderr",
     "output_type": "stream",
     "text": [
      "Building prefix dict from the default dictionary ...\n",
      "Loading model from cache /tmp/jieba.cache\n",
      "Loading model cost 0.710 seconds.\n",
      "Prefix dict has been built succesfully.\n"
     ]
    }
   ],
   "source": [
    "import numpy as np\n",
    "def DropNan(sentence):\n",
    "    if sentence is np.nan:\n",
    "        return ''\n",
    "    return sentence\n",
    "\n",
    "df_files['all_sentence'] = df_files['all_sentence'].apply(DropNan)\n",
    "df_files['all_sentence'] = df_files['all_sentence'].apply(lambda x: x.replace('\\n', ' '))\n",
    "df_files['all_sentence'] = df_files['all_sentence'].apply(cutWords)"
   ]
  },
  {
   "cell_type": "code",
   "execution_count": 6,
   "metadata": {
    "ExecuteTime": {
     "end_time": "2019-12-03T07:48:08.294733Z",
     "start_time": "2019-12-03T07:48:08.174086Z"
    }
   },
   "outputs": [],
   "source": [
    "word2id, id2word = pickle.load(open(\"../data/word2idandid2word.pkl\",\"rb\"))\n",
    "def WordToId(sentence):\n",
    "    res = []\n",
    "    word_list = sentence.split(' ')\n",
    "    for word in word_list:\n",
    "        if word not in word2id.keys():\n",
    "            res.append(1)\n",
    "        else:\n",
    "            res.append(word2id[word])\n",
    "    return res"
   ]
  },
  {
   "cell_type": "code",
   "execution_count": 7,
   "metadata": {
    "ExecuteTime": {
     "end_time": "2019-12-03T07:48:12.017912Z",
     "start_time": "2019-12-03T07:48:08.296467Z"
    }
   },
   "outputs": [],
   "source": [
    "df_files['all_sentence'] = df_files['all_sentence'].apply(WordToId)\n"
   ]
  },
  {
   "cell_type": "code",
   "execution_count": 10,
   "metadata": {
    "ExecuteTime": {
     "end_time": "2019-12-03T07:49:06.527701Z",
     "start_time": "2019-12-03T07:49:06.523769Z"
    }
   },
   "outputs": [],
   "source": [
    "X_all = df_files['all_sentence'].values"
   ]
  },
  {
   "cell_type": "code",
   "execution_count": 11,
   "metadata": {
    "ExecuteTime": {
     "end_time": "2019-12-03T07:49:07.740352Z",
     "start_time": "2019-12-03T07:49:06.721204Z"
    }
   },
   "outputs": [
    {
     "name": "stdout",
     "output_type": "stream",
     "text": [
      "(80000, 200)\n"
     ]
    }
   ],
   "source": [
    "X_all_padding_len = 200\n",
    "\n",
    "from keras.preprocessing.sequence import pad_sequences\n",
    "X_all = pad_sequences(X_all, maxlen=X_all_padding_len, padding='pre', truncating='post')\n",
    "\n",
    "print (X_all.shape)"
   ]
  },
  {
   "cell_type": "code",
   "execution_count": 14,
   "metadata": {
    "ExecuteTime": {
     "end_time": "2019-12-03T07:49:47.595102Z",
     "start_time": "2019-12-03T07:49:47.560412Z"
    }
   },
   "outputs": [],
   "source": [
    "def LabelDropNan(label):\n",
    "    if label is np.nan:\n",
    "        print (label)\n",
    "        return str(-1)\n",
    "    return str(label)\n",
    "y_str = df_files['主IPC分类号-小类'].apply(LabelDropNan).values\n"
   ]
  },
  {
   "cell_type": "code",
   "execution_count": 19,
   "metadata": {
    "ExecuteTime": {
     "end_time": "2019-12-03T07:52:43.569769Z",
     "start_time": "2019-12-03T07:52:43.559442Z"
    }
   },
   "outputs": [],
   "source": [
    "label2id = {\n",
    "    'A': 0,\n",
    "    'B': 1,\n",
    "    'C': 2,\n",
    "    'D': 3,\n",
    "    'E': 4,\n",
    "    'F': 5,\n",
    "    'G': 6,\n",
    "    'H': 7\n",
    "}\n",
    "\n",
    "id2label = {\n",
    "    0: 'A',\n",
    "    1: 'B',\n",
    "    2: 'C',\n",
    "    3: 'D',\n",
    "    4: 'E',\n",
    "    5: 'F',\n",
    "    6: 'G',\n",
    "    7: 'H'\n",
    "}"
   ]
  },
  {
   "cell_type": "code",
   "execution_count": 20,
   "metadata": {
    "ExecuteTime": {
     "end_time": "2019-12-03T07:52:43.939637Z",
     "start_time": "2019-12-03T07:52:43.935649Z"
    }
   },
   "outputs": [],
   "source": [
    "pickle.dump([label2id, id2label], open(\"../data/label2idandid2label.pkl\",\"wb\"))"
   ]
  },
  {
   "cell_type": "code",
   "execution_count": 21,
   "metadata": {
    "ExecuteTime": {
     "end_time": "2019-12-03T08:12:05.857911Z",
     "start_time": "2019-12-03T08:12:05.854094Z"
    }
   },
   "outputs": [],
   "source": [
    "y_onehot = np.eye(8, dtype=int)\n"
   ]
  },
  {
   "cell_type": "code",
   "execution_count": 22,
   "metadata": {
    "ExecuteTime": {
     "end_time": "2019-12-03T08:12:08.906349Z",
     "start_time": "2019-12-03T08:12:08.901144Z"
    }
   },
   "outputs": [
    {
     "data": {
      "text/plain": [
       "array([[1, 0, 0, 0, 0, 0, 0, 0],\n",
       "       [0, 1, 0, 0, 0, 0, 0, 0],\n",
       "       [0, 0, 1, 0, 0, 0, 0, 0],\n",
       "       [0, 0, 0, 1, 0, 0, 0, 0],\n",
       "       [0, 0, 0, 0, 1, 0, 0, 0],\n",
       "       [0, 0, 0, 0, 0, 1, 0, 0],\n",
       "       [0, 0, 0, 0, 0, 0, 1, 0],\n",
       "       [0, 0, 0, 0, 0, 0, 0, 1]])"
      ]
     },
     "execution_count": 22,
     "metadata": {},
     "output_type": "execute_result"
    }
   ],
   "source": [
    "y_onehot"
   ]
  },
  {
   "cell_type": "code",
   "execution_count": 24,
   "metadata": {
    "ExecuteTime": {
     "end_time": "2019-12-03T08:12:48.270314Z",
     "start_time": "2019-12-03T08:12:48.197509Z"
    }
   },
   "outputs": [],
   "source": [
    "y = []\n",
    "for i in y_str:\n",
    "    y.append(y_onehot[label2id[i[0]]])\n",
    "y = np.array(y)"
   ]
  },
  {
   "cell_type": "code",
   "execution_count": 25,
   "metadata": {
    "ExecuteTime": {
     "end_time": "2019-12-03T08:13:08.491802Z",
     "start_time": "2019-12-03T08:13:08.487627Z"
    }
   },
   "outputs": [
    {
     "name": "stdout",
     "output_type": "stream",
     "text": [
      "(80000, 8)\n"
     ]
    }
   ],
   "source": [
    "print (y.shape)"
   ]
  },
  {
   "cell_type": "code",
   "execution_count": 26,
   "metadata": {
    "ExecuteTime": {
     "end_time": "2019-12-03T08:13:16.455853Z",
     "start_time": "2019-12-03T08:13:16.452045Z"
    }
   },
   "outputs": [
    {
     "name": "stdout",
     "output_type": "stream",
     "text": [
      "(80000, 200)\n"
     ]
    }
   ],
   "source": [
    "print (X_all.shape)"
   ]
  },
  {
   "cell_type": "code",
   "execution_count": 27,
   "metadata": {
    "ExecuteTime": {
     "end_time": "2019-12-03T08:13:47.402954Z",
     "start_time": "2019-12-03T08:13:47.244989Z"
    }
   },
   "outputs": [],
   "source": [
    "pickle.dump(X_all, open(\"../data/X_data.pkl\",\"wb\"))\n",
    "pickle.dump(y, open(\"../data/y_data.pkl\",\"wb\"))\n"
   ]
  },
  {
   "cell_type": "code",
   "execution_count": null,
   "metadata": {},
   "outputs": [],
   "source": []
  }
 ],
 "metadata": {
  "kernelspec": {
   "display_name": "Python 3",
   "language": "python",
   "name": "python3"
  },
  "language_info": {
   "codemirror_mode": {
    "name": "ipython",
    "version": 3
   },
   "file_extension": ".py",
   "mimetype": "text/x-python",
   "name": "python",
   "nbconvert_exporter": "python",
   "pygments_lexer": "ipython3",
   "version": "3.6.8"
  },
  "toc": {
   "nav_menu": {},
   "number_sections": true,
   "sideBar": true,
   "skip_h1_title": false,
   "toc_cell": false,
   "toc_position": {},
   "toc_section_display": "block",
   "toc_window_display": false
  }
 },
 "nbformat": 4,
 "nbformat_minor": 2
}
