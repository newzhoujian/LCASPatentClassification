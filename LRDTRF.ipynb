{
 "cells": [
  {
   "cell_type": "code",
   "execution_count": 1,
   "metadata": {
    "ExecuteTime": {
     "end_time": "2019-12-11T03:58:42.235545Z",
     "start_time": "2019-12-11T03:55:25.424096Z"
    }
   },
   "outputs": [
    {
     "name": "stderr",
     "output_type": "stream",
     "text": [
      "Building prefix dict from the default dictionary ...\n",
      "Loading model from cache /tmp/jieba.cache\n",
      "Loading model cost 0.748 seconds.\n",
      "Prefix dict has been built succesfully.\n"
     ]
    }
   ],
   "source": [
    "import pandas as pd\n",
    "import sys\n",
    "import numpy as np\n",
    "import pickle\n",
    "import os\n",
    "from sklearn import feature_extraction\n",
    "from sklearn.feature_extraction.text import TfidfVectorizer\n",
    "from sklearn.feature_extraction.text import CountVectorizer\n",
    "\n",
    "from sklearn.linear_model import LogisticRegression\n",
    "from sklearn.naive_bayes import MultinomialNB\n",
    "from sklearn.neighbors import KNeighborsClassifier\n",
    "from sklearn.svm import SVC\n",
    "from sklearn.tree import DecisionTreeClassifier\n",
    "from sklearn.metrics import classification_report\n",
    "from sklearn.metrics import accuracy_score\n",
    "from sklearn.model_selection import cross_val_score\n",
    "from sklearn.model_selection import KFold\n",
    "from sklearn.model_selection import GridSearchCV\n",
    "from sklearn.ensemble import AdaBoostClassifier\n",
    "from sklearn.ensemble import RandomForestClassifier\n",
    "from sklearn.ensemble import GradientBoostingClassifier\n",
    "from matplotlib import pyplot as plt\n",
    "from sklearn.model_selection import train_test_split\n",
    "\n",
    "df_file = pd.read_excel('../data/patentData_80000_20180622.xlsx')\n",
    "\n",
    "df_file['X'] = df_file['标题'] + '。' + df_file['摘要'] + '。' + df_file['首项权利要求']\n",
    "\n",
    "import jieba\n",
    "stopwordfile = open('../dict/StopWords_CON.txt', 'r', encoding='utf-8')\n",
    "def getstopword():\n",
    "    w = set()\n",
    "    for line in stopwordfile:\n",
    "        line.strip().split('\\n')\n",
    "        w.add(line[:len(line)-1].strip())\n",
    "    return w\n",
    "\n",
    "stopwordset = getstopword()\n",
    "\n",
    "def cutWords(sentence):\n",
    "    word_list = jieba.cut(sentence)\n",
    "    res = ' '.join(word_list)\n",
    "    res = res.split(' ')\n",
    "    tempX = ''\n",
    "    for i in res:\n",
    "        if i not in stopwordset:\n",
    "            tempX+=i\n",
    "            tempX+=' '\n",
    "    return tempX.strip()\n",
    "\n",
    "df_file['X'] = df_file['X'].apply(cutWords)\n",
    "\n",
    "label2id = {\n",
    "    'A': 0,\n",
    "    'B': 1,\n",
    "    'C': 2,\n",
    "    'D': 3,\n",
    "    'E': 4,\n",
    "    'F': 5,\n",
    "    'G': 6,\n",
    "    'H': 7\n",
    "}\n",
    "\n",
    "def transy(x):\n",
    "    return label2id[x[0]]\n",
    "\n",
    "df_file['y'] = df_file['主IPC分类号-小类'].apply(transy)\n",
    "\n",
    "document = df_file['X'].values\n",
    "\n",
    "tfidf_model = TfidfVectorizer(token_pattern=r\"(?u)\\b\\w+\\b\").fit_transform(document)\n",
    "y = df_file['y'].values\n",
    "X_train, X_test, y_train, y_test = train_test_split(tfidf_model, y, test_size=0.25, random_state=42)"
   ]
  },
  {
   "cell_type": "code",
   "execution_count": 2,
   "metadata": {
    "ExecuteTime": {
     "end_time": "2019-12-11T03:59:33.953922Z",
     "start_time": "2019-12-11T03:58:42.237921Z"
    },
    "scrolled": true
   },
   "outputs": [
    {
     "name": "stderr",
     "output_type": "stream",
     "text": [
      "/data/miniconda3/lib/python3.6/site-packages/sklearn/linear_model/_logistic.py:939: ConvergenceWarning: lbfgs failed to converge (status=1):\n",
      "STOP: TOTAL NO. of ITERATIONS REACHED LIMIT.\n",
      "\n",
      "Increase the number of iterations (max_iter) or scale the data as shown in:\n",
      "    https://scikit-learn.org/stable/modules/preprocessing.html.\n",
      "Please also refer to the documentation for alternative solver options:\n",
      "    https://scikit-learn.org/stable/modules/linear_model.html#logistic-regression\n",
      "  extra_warning_msg=_LOGISTIC_SOLVER_CONVERGENCE_MSG)\n"
     ]
    },
    {
     "data": {
      "text/plain": [
       "LogisticRegression(C=1.0, class_weight=None, dual=False, fit_intercept=True,\n",
       "                   intercept_scaling=1, l1_ratio=None, max_iter=100,\n",
       "                   multi_class='auto', n_jobs=None, penalty='l2',\n",
       "                   random_state=None, solver='lbfgs', tol=0.0001, verbose=0,\n",
       "                   warm_start=False)"
      ]
     },
     "execution_count": 2,
     "metadata": {},
     "output_type": "execute_result"
    }
   ],
   "source": [
    "models = {}\n",
    "models['LR'] = LogisticRegression()\n",
    "models['LR'].fit(X_train[:], y_train[:])"
   ]
  },
  {
   "cell_type": "code",
   "execution_count": 3,
   "metadata": {
    "ExecuteTime": {
     "end_time": "2019-12-11T04:01:53.216643Z",
     "start_time": "2019-12-11T03:59:33.956036Z"
    }
   },
   "outputs": [
    {
     "data": {
      "text/plain": [
       "DecisionTreeClassifier(ccp_alpha=0.0, class_weight=None, criterion='gini',\n",
       "                       max_depth=None, max_features=None, max_leaf_nodes=None,\n",
       "                       min_impurity_decrease=0.0, min_impurity_split=None,\n",
       "                       min_samples_leaf=1, min_samples_split=2,\n",
       "                       min_weight_fraction_leaf=0.0, presort='deprecated',\n",
       "                       random_state=None, splitter='best')"
      ]
     },
     "execution_count": 3,
     "metadata": {},
     "output_type": "execute_result"
    }
   ],
   "source": [
    "models['DT'] = DecisionTreeClassifier()\n",
    "models['DT'].fit(X_train[:], y_train[:])"
   ]
  },
  {
   "cell_type": "code",
   "execution_count": 4,
   "metadata": {
    "ExecuteTime": {
     "end_time": "2019-12-11T04:11:09.521963Z",
     "start_time": "2019-12-11T04:01:53.219521Z"
    }
   },
   "outputs": [
    {
     "data": {
      "text/plain": [
       "RandomForestClassifier(bootstrap=True, ccp_alpha=0.0, class_weight=None,\n",
       "                       criterion='gini', max_depth=None, max_features='auto',\n",
       "                       max_leaf_nodes=None, max_samples=None,\n",
       "                       min_impurity_decrease=0.0, min_impurity_split=None,\n",
       "                       min_samples_leaf=1, min_samples_split=2,\n",
       "                       min_weight_fraction_leaf=0.0, n_estimators=100,\n",
       "                       n_jobs=None, oob_score=False, random_state=None,\n",
       "                       verbose=0, warm_start=False)"
      ]
     },
     "execution_count": 4,
     "metadata": {},
     "output_type": "execute_result"
    }
   ],
   "source": [
    "models['RF'] = RandomForestClassifier()\n",
    "models['RF'].fit(X_train[:], y_train[:])"
   ]
  },
  {
   "cell_type": "code",
   "execution_count": 15,
   "metadata": {
    "ExecuteTime": {
     "end_time": "2019-12-11T04:25:57.361183Z",
     "start_time": "2019-12-11T04:25:55.193348Z"
    }
   },
   "outputs": [],
   "source": [
    "from sklearn import metrics\n",
    "\n",
    "y_pred_LR = models['LR'].predict(X_test[:])\n",
    "y_pred_DT = models['DT'].predict(X_test[:])\n",
    "y_pred_RF = models['RF'].predict(X_test[:])\n",
    "\n",
    "\n"
   ]
  },
  {
   "cell_type": "code",
   "execution_count": 16,
   "metadata": {
    "ExecuteTime": {
     "end_time": "2019-12-11T04:25:57.372410Z",
     "start_time": "2019-12-11T04:25:57.362939Z"
    }
   },
   "outputs": [],
   "source": [
    "def Result(y_test, y_pred):\n",
    "    print('precision:')\n",
    "    print(metrics.precision_score(y_test, y_pred, average='micro'))\n",
    "    print(metrics.precision_score(y_test, y_pred, average='macro'))\n",
    "\n",
    "    print('recall:')\n",
    "    print(metrics.recall_score(y_test, y_pred, average='micro'))\n",
    "    print(metrics.recall_score(y_test, y_pred, average='macro'))\n",
    "\n",
    "    print('f1:')\n",
    "    print(metrics.f1_score(y_test, y_pred, average='micro'))\n",
    "    print(metrics.f1_score(y_test, y_pred, average='macro'))"
   ]
  },
  {
   "cell_type": "code",
   "execution_count": 17,
   "metadata": {
    "ExecuteTime": {
     "end_time": "2019-12-11T04:25:57.433027Z",
     "start_time": "2019-12-11T04:25:57.375186Z"
    }
   },
   "outputs": [
    {
     "name": "stdout",
     "output_type": "stream",
     "text": [
      "precision:\n",
      "0.7784\n",
      "0.7805038246164653\n",
      "recall:\n",
      "0.7784\n",
      "0.7784240384751246\n",
      "f1:\n",
      "0.7784\n",
      "0.7786504654631667\n"
     ]
    }
   ],
   "source": [
    "Result(y_test[:], y_pred_LR)"
   ]
  },
  {
   "cell_type": "code",
   "execution_count": 18,
   "metadata": {
    "ExecuteTime": {
     "end_time": "2019-12-11T04:25:57.484226Z",
     "start_time": "2019-12-11T04:25:57.434635Z"
    }
   },
   "outputs": [
    {
     "name": "stdout",
     "output_type": "stream",
     "text": [
      "precision:\n",
      "0.57555\n",
      "0.5766231594612026\n",
      "recall:\n",
      "0.57555\n",
      "0.5753772700275375\n",
      "f1:\n",
      "0.57555\n",
      "0.5757351142636977\n"
     ]
    }
   ],
   "source": [
    "Result(y_test[:], y_pred_DT)"
   ]
  },
  {
   "cell_type": "code",
   "execution_count": 19,
   "metadata": {
    "ExecuteTime": {
     "end_time": "2019-12-11T04:25:57.536773Z",
     "start_time": "2019-12-11T04:25:57.485969Z"
    }
   },
   "outputs": [
    {
     "name": "stdout",
     "output_type": "stream",
     "text": [
      "precision:\n",
      "0.7106\n",
      "0.7151842920683658\n",
      "recall:\n",
      "0.7106\n",
      "0.7109231776331095\n",
      "f1:\n",
      "0.7106\n",
      "0.7071120024947544\n"
     ]
    }
   ],
   "source": [
    "Result(y_test[:], y_pred_RF)"
   ]
  },
  {
   "cell_type": "code",
   "execution_count": null,
   "metadata": {},
   "outputs": [],
   "source": []
  }
 ],
 "metadata": {
  "kernelspec": {
   "display_name": "Python 3",
   "language": "python",
   "name": "python3"
  },
  "language_info": {
   "codemirror_mode": {
    "name": "ipython",
    "version": 3
   },
   "file_extension": ".py",
   "mimetype": "text/x-python",
   "name": "python",
   "nbconvert_exporter": "python",
   "pygments_lexer": "ipython3",
   "version": "3.6.8"
  },
  "toc": {
   "nav_menu": {},
   "number_sections": true,
   "sideBar": true,
   "skip_h1_title": false,
   "toc_cell": false,
   "toc_position": {},
   "toc_section_display": "block",
   "toc_window_display": false
  }
 },
 "nbformat": 4,
 "nbformat_minor": 2
}
