{
 "cells": [
  {
   "cell_type": "code",
   "execution_count": 12,
   "metadata": {
    "ExecuteTime": {
     "end_time": "2019-12-10T10:30:52.316640Z",
     "start_time": "2019-12-10T10:30:26.350156Z"
    }
   },
   "outputs": [
    {
     "name": "stdout",
     "output_type": "stream",
     "text": [
      "_________________________________________________________________\n",
      "Layer (type)                 Output Shape              Param #   \n",
      "=================================================================\n",
      "input_6 (InputLayer)         (None, 200)               0         \n",
      "_________________________________________________________________\n",
      "embedding_6 (Embedding)      (None, 200, 300)          68857800  \n",
      "_________________________________________________________________\n",
      "flatten_6 (Flatten)          (None, 60000)             0         \n",
      "_________________________________________________________________\n",
      "dense_12 (Dense)             (None, 300)               18000300  \n",
      "_________________________________________________________________\n",
      "dropout_5 (Dropout)          (None, 300)               0         \n",
      "_________________________________________________________________\n",
      "dense_13 (Dense)             (None, 8)                 2408      \n",
      "=================================================================\n",
      "Total params: 86,860,508\n",
      "Trainable params: 18,002,708\n",
      "Non-trainable params: 68,857,800\n",
      "_________________________________________________________________\n",
      "Train on 50000 samples, validate on 20000 samples\n",
      "Epoch 1/5\n",
      "50000/50000 [==============================] - 5s 90us/step - loss: 0.9089 - categorical_accuracy: 0.6823 - val_loss: 0.7552 - val_categorical_accuracy: 0.7315\n",
      "\n",
      "Epoch 00001: val_categorical_accuracy improved from -inf to 0.73155, saving model to ../PCmodel/ANN.h5\n",
      "Epoch 2/5\n",
      "50000/50000 [==============================] - 3s 69us/step - loss: 0.4825 - categorical_accuracy: 0.8352 - val_loss: 0.7861 - val_categorical_accuracy: 0.7296\n",
      "\n",
      "Epoch 00002: val_categorical_accuracy did not improve from 0.73155\n",
      "Epoch 3/5\n",
      "50000/50000 [==============================] - 3s 68us/step - loss: 0.2597 - categorical_accuracy: 0.9174 - val_loss: 0.8659 - val_categorical_accuracy: 0.7256\n",
      "\n",
      "Epoch 00003: val_categorical_accuracy did not improve from 0.73155\n",
      "Epoch 4/5\n",
      "50000/50000 [==============================] - 3s 67us/step - loss: 0.1342 - categorical_accuracy: 0.9623 - val_loss: 0.9203 - val_categorical_accuracy: 0.7257\n",
      "\n",
      "Epoch 00004: val_categorical_accuracy did not improve from 0.73155\n",
      "Epoch 5/5\n",
      "50000/50000 [==============================] - 3s 68us/step - loss: 0.0786 - categorical_accuracy: 0.9795 - val_loss: 1.0120 - val_categorical_accuracy: 0.7254\n",
      "\n",
      "Epoch 00005: val_categorical_accuracy did not improve from 0.73155\n"
     ]
    }
   ],
   "source": [
    "import pickle\n",
    "import tensorflow as tf\n",
    "import keras\n",
    "import keras.backend as K\n",
    "from keras.layers import *\n",
    "from keras.models import Model\n",
    "from keras.callbacks import ModelCheckpoint\n",
    "from keras.models import save_model\n",
    "from keras.models import load_model\n",
    "import os\n",
    "\n",
    "X = pickle.load(open(\"../data/X_data_random.pkl\",\"rb\"))\n",
    "y = pickle.load(open(\"../data/y_data_random.pkl\",\"rb\"))\n",
    "word2id, id2word = pickle.load(open(\"../data/word2idandid2word.pkl\",\"rb\"))\n",
    "label2id, id2label = pickle.load(open(\"../data/label2idandid2label.pkl\",\"rb\"))\n",
    "word2vec_matrix = pickle.load(open(\"../data/word2vec_matrix.pkl\",\"rb\"))\n",
    "\n",
    "\n",
    "index1 = 50000\n",
    "index2 = 70000\n",
    "X_train, X_val, X_test = X[:index1], X[index1:index2], X[index2:]\n",
    "y_train, y_val, y_test = y[:index1], y[index1:index2], y[index2:]\n",
    "\n",
    "os.environ['CUDA_VISIBLE_DEVICES'] = \"0\"\n",
    "\n",
    "padding_len = 200\n",
    "\n",
    "with tf.device('/gpu:0'):\n",
    "    model_input = Input(shape=(padding_len,))\n",
    "    \n",
    "    wordembed = Embedding(len(word2vec_matrix), 300, weights=[word2vec_matrix], input_length=padding_len, trainable=False)(model_input)\n",
    "    wordembed = Flatten()(wordembed)\n",
    "    sen2vec = Dense(300, activation='tanh')(wordembed)\n",
    "    sen2vec = Dropout(0.5)(sen2vec)\n",
    "    model_output = Dense(len(label2id), activation='softmax')(sen2vec)\n",
    "    model = Model(inputs=model_input, outputs=model_output)\n",
    "    model.summary()\n",
    "    checkpoint = ModelCheckpoint(\"../PCmodel/ANN.h5\", monitor='val_categorical_accuracy', verbose=1, save_best_only=True, mode='max')\n",
    "    model.compile(loss='categorical_crossentropy', optimizer='adam', metrics=['categorical_accuracy'])\n",
    "    model.fit(X_train, y_train, batch_size=200, epochs=5, validation_data=(X_val, y_val), callbacks=[checkpoint])\n",
    "    model.save(\"../PCmodel/ANN.h5\")"
   ]
  },
  {
   "cell_type": "code",
   "execution_count": 13,
   "metadata": {
    "ExecuteTime": {
     "end_time": "2019-12-10T10:30:53.094238Z",
     "start_time": "2019-12-10T10:30:52.318865Z"
    }
   },
   "outputs": [
    {
     "name": "stdout",
     "output_type": "stream",
     "text": [
      "precision:\n",
      "0.7177\n",
      "0.7167971154514964\n",
      "recall:\n",
      "0.7177\n",
      "0.7166342378520689\n",
      "f1:\n",
      "0.7177\n",
      "0.7162168305007888\n"
     ]
    }
   ],
   "source": [
    "y_pred = model.predict(X_test)\n",
    "y1 = [np.argmax(i) for i in y_test]\n",
    "y2 = [np.argmax(i) for i in y_pred]\n",
    "\n",
    "from sklearn import metrics\n",
    "\n",
    "print('precision:')\n",
    "print(metrics.precision_score(y1,y2,average='micro'))\n",
    "print(metrics.precision_score(y1,y2,average='macro'))\n",
    "\n",
    "print('recall:')\n",
    "print(metrics.recall_score(y1,y2,average='micro'))\n",
    "print(metrics.recall_score(y1,y2,average='macro'))\n",
    "\n",
    "print('f1:')\n",
    "print(metrics.f1_score(y1,y2,average='micro'))\n",
    "print(metrics.f1_score(y1,y2,average='macro'))"
   ]
  },
  {
   "cell_type": "code",
   "execution_count": null,
   "metadata": {},
   "outputs": [],
   "source": []
  }
 ],
 "metadata": {
  "kernelspec": {
   "display_name": "Python 3",
   "language": "python",
   "name": "python3"
  },
  "language_info": {
   "codemirror_mode": {
    "name": "ipython",
    "version": 3
   },
   "file_extension": ".py",
   "mimetype": "text/x-python",
   "name": "python",
   "nbconvert_exporter": "python",
   "pygments_lexer": "ipython3",
   "version": "3.6.8"
  },
  "toc": {
   "nav_menu": {},
   "number_sections": true,
   "sideBar": true,
   "skip_h1_title": false,
   "toc_cell": false,
   "toc_position": {},
   "toc_section_display": "block",
   "toc_window_display": false
  }
 },
 "nbformat": 4,
 "nbformat_minor": 2
}
