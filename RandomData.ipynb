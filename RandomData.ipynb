{
 "cells": [
  {
   "cell_type": "code",
   "execution_count": 4,
   "metadata": {
    "ExecuteTime": {
     "end_time": "2019-12-03T08:57:26.255507Z",
     "start_time": "2019-12-03T08:57:25.230708Z"
    }
   },
   "outputs": [],
   "source": [
    "import pickle\n",
    "\n",
    "X = pickle.load(open(\"../data/X_data.pkl\",\"rb\"))\n",
    "y = pickle.load(open(\"../data/y_data.pkl\",\"rb\"))\n",
    "word2id, id2word = pickle.load(open(\"../data/word2idandid2word.pkl\",\"rb\"))\n",
    "label2id, id2label = pickle.load(open(\"../data/label2idandid2label.pkl\",\"rb\"))\n",
    "word2vec_matrix = pickle.load(open(\"../data/word2vec_matrix.pkl\",\"rb\"))"
   ]
  },
  {
   "cell_type": "code",
   "execution_count": 5,
   "metadata": {
    "ExecuteTime": {
     "end_time": "2019-12-03T08:57:34.050491Z",
     "start_time": "2019-12-03T08:57:34.045543Z"
    }
   },
   "outputs": [
    {
     "name": "stdout",
     "output_type": "stream",
     "text": [
      "(80000, 200)\n",
      "(80000, 8)\n"
     ]
    }
   ],
   "source": [
    "print (X.shape)\n",
    "print (y.shape)"
   ]
  },
  {
   "cell_type": "code",
   "execution_count": 6,
   "metadata": {
    "ExecuteTime": {
     "end_time": "2019-12-03T08:58:14.678953Z",
     "start_time": "2019-12-03T08:58:14.608835Z"
    }
   },
   "outputs": [],
   "source": [
    "import random\n",
    "index = [i for i in range(len(y))]\n",
    "random.shuffle(index)"
   ]
  },
  {
   "cell_type": "code",
   "execution_count": 7,
   "metadata": {
    "ExecuteTime": {
     "end_time": "2019-12-03T08:59:21.252176Z",
     "start_time": "2019-12-03T08:59:21.161130Z"
    }
   },
   "outputs": [],
   "source": [
    "X_new = []\n",
    "y_new = []\n",
    "\n",
    "for i in index:\n",
    "    X_new.append(X[i])\n",
    "    y_new.append(y[i])"
   ]
  },
  {
   "cell_type": "code",
   "execution_count": 9,
   "metadata": {
    "ExecuteTime": {
     "end_time": "2019-12-03T08:59:41.339979Z",
     "start_time": "2019-12-03T08:59:41.213869Z"
    }
   },
   "outputs": [],
   "source": [
    "import numpy as np\n",
    "X_new = np.array(X_new)\n",
    "y_new = np.array(y_new)"
   ]
  },
  {
   "cell_type": "code",
   "execution_count": 10,
   "metadata": {
    "ExecuteTime": {
     "end_time": "2019-12-03T09:00:17.197987Z",
     "start_time": "2019-12-03T09:00:17.067474Z"
    }
   },
   "outputs": [],
   "source": [
    "pickle.dump(X_new, open(\"../data/X_data_random.pkl\",\"wb\"))\n",
    "pickle.dump(y_new, open(\"../data/y_data_random.pkl\",\"wb\"))\n"
   ]
  },
  {
   "cell_type": "code",
   "execution_count": null,
   "metadata": {},
   "outputs": [],
   "source": []
  }
 ],
 "metadata": {
  "kernelspec": {
   "display_name": "Python 3",
   "language": "python",
   "name": "python3"
  },
  "language_info": {
   "codemirror_mode": {
    "name": "ipython",
    "version": 3
   },
   "file_extension": ".py",
   "mimetype": "text/x-python",
   "name": "python",
   "nbconvert_exporter": "python",
   "pygments_lexer": "ipython3",
   "version": "3.6.8"
  },
  "toc": {
   "nav_menu": {},
   "number_sections": true,
   "sideBar": true,
   "skip_h1_title": false,
   "toc_cell": false,
   "toc_position": {},
   "toc_section_display": "block",
   "toc_window_display": false
  }
 },
 "nbformat": 4,
 "nbformat_minor": 2
}
